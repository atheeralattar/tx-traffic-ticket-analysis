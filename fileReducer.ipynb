{
 "cells": [
  {
   "cell_type": "code",
   "execution_count": 17,
   "metadata": {},
   "outputs": [],
   "source": [
    "def fileReducer(file,reducedSize):\n",
    "    \"\"\" Takes fullsize csv file and randomly sample it to the given size\"\"\"\n",
    "    import pandas as pd\n",
    "    df=pd.read_csv(file)\n",
    "    dfFullSize=df.memory_usage().sum()/1e6\n",
    "    df_reduced=df.sample(frac=reducedSize/(1.4*dfFullSize))\n",
    "    df_reduced.to_csv('df_reduced.csv')\n",
    "    "
   ]
  }
 ],
 "metadata": {
  "kernelspec": {
   "display_name": "Python 3",
   "language": "python",
   "name": "python3"
  },
  "language_info": {
   "codemirror_mode": {
    "name": "ipython",
    "version": 3
   },
   "file_extension": ".py",
   "mimetype": "text/x-python",
   "name": "python",
   "nbconvert_exporter": "python",
   "pygments_lexer": "ipython3",
   "version": "3.6.5"
  }
 },
 "nbformat": 4,
 "nbformat_minor": 2
}
