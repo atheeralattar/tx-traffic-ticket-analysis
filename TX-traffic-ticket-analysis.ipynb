{
 "cells": [
  {
   "cell_type": "markdown",
   "metadata": {},
   "source": [
    "### The Stanford Data Project Analysis - Nashville, TN\n",
    "On a typical day in the United States, police officers make more than 50,000 traffic stops. Our team is gathering, analyzing, and releasing records from millions of traffic stops by law enforcement agencies across the country. Our goal is to help researchers, journalists, and policymakers investigate and improve interactions between police and the public."
   ]
  },
  {
   "cell_type": "markdown",
   "metadata": {},
   "source": [
    "### 1. Purpose-of-Analysis\n",
    "The purpose of the analysis is kind of hollistic approach to explore what we can get out of the data, so I am not sure if there is a specific purpose or question. I will insert all the questions that come to my mind below and will update this notebook frequently. So there are couple of questions we are trying to answer here:\n",
    "#### 1.1. Is being arrested a gender dependeant?\n",
    "#### 1.2 Is being arrested a race dependeant? \n",
    "#### 1.3 How the race distribution looks like comparing with the actual city race distribution?\n",
    "#### 1.4. Is the weather a playing factor of increasing/decreasing the tickets rates?\n",
    "#### 1.5 how the spatial distribution of the tickets looks  like?\n",
    "#### 1.6 How the spatial distribution of the tickets and gender looks like?\n",
    "#### 1.7 Do girls make violations at a specific time of the day?\n",
    "#### 1.8 How the type of violation is distributed around the city?\n",
    "#### 1.9 Are there any places in the city where speeding is the most common violation?"
   ]
  },
  {
   "cell_type": "markdown",
   "metadata": {},
   "source": [
    "### 2. Data aquisition\n",
    "The data of the project is in a form of compressed file hosted online, it will be downloaded and extracted to the project directory. You can always host the data anywhere else and change the pointer in the read csv  line"
   ]
  },
  {
   "cell_type": "code",
   "execution_count": 1,
   "metadata": {},
   "outputs": [],
   "source": [
    "import datetime\n",
    "import pandas as pd\n",
    "import requests, zipfile, io"
   ]
  },
  {
   "cell_type": "code",
   "execution_count": null,
   "metadata": {},
   "outputs": [],
   "source": [
    "url=\"https://stacks.stanford.edu/file/druid:hp256wp2687/hp256wp2687_tn_nashville_2019_08_13.csv.zip\""
   ]
  },
  {
   "cell_type": "code",
   "execution_count": null,
   "metadata": {},
   "outputs": [],
   "source": [
    "r = requests.get(url)\n",
    "z = zipfile.ZipFile(io.BytesIO(r.content))\n",
    "z.extractall()\n",
    "tn_raw=pd.read_csv(z.namelist()[0], low_memory=False)"
   ]
  },
  {
   "cell_type": "code",
   "execution_count": 2,
   "metadata": {},
   "outputs": [
    {
     "name": "stderr",
     "output_type": "stream",
     "text": [
      "C:\\Users\\amalattar\\AppData\\Roaming\\Python\\Python36\\site-packages\\IPython\\core\\interactiveshell.py:3058: DtypeWarning: Columns (6,8,15,16,17,22,23,24,25,29,30,31,32,33,35,36,37,38,40,41) have mixed types. Specify dtype option on import or set low_memory=False.\n",
      "  interactivity=interactivity, compiler=compiler, result=result)\n"
     ]
    }
   ],
   "source": [
    "tn_raw=pd.read_csv('tn_nashville_2019_08_13.csv', parse_dates=[['date', 'time']])"
   ]
  },
  {
   "cell_type": "code",
   "execution_count": 4,
   "metadata": {},
   "outputs": [],
   "source": [
    "tn=tn_raw.copy()"
   ]
  },
  {
   "cell_type": "markdown",
   "metadata": {},
   "source": [
    "### 3. Data Exploration and Cleaning\n",
    "In this step we will select the column of interest and  will drop all the na values in these columns. We will also drop the columns that we won't need or use."
   ]
  },
  {
   "cell_type": "code",
   "execution_count": 5,
   "metadata": {},
   "outputs": [
    {
     "data": {
      "text/html": [
       "<div>\n",
       "<style scoped>\n",
       "    .dataframe tbody tr th:only-of-type {\n",
       "        vertical-align: middle;\n",
       "    }\n",
       "\n",
       "    .dataframe tbody tr th {\n",
       "        vertical-align: top;\n",
       "    }\n",
       "\n",
       "    .dataframe thead th {\n",
       "        text-align: right;\n",
       "    }\n",
       "</style>\n",
       "<table border=\"1\" class=\"dataframe\">\n",
       "  <thead>\n",
       "    <tr style=\"text-align: right;\">\n",
       "      <th></th>\n",
       "      <th>date_time</th>\n",
       "      <th>raw_row_number</th>\n",
       "      <th>location</th>\n",
       "      <th>lat</th>\n",
       "      <th>lng</th>\n",
       "      <th>precinct</th>\n",
       "      <th>reporting_area</th>\n",
       "      <th>zone</th>\n",
       "      <th>subject_age</th>\n",
       "      <th>subject_race</th>\n",
       "      <th>...</th>\n",
       "      <th>raw_traffic_citation_issued</th>\n",
       "      <th>raw_misd_state_citation_issued</th>\n",
       "      <th>raw_suspect_ethnicity</th>\n",
       "      <th>raw_driver_searched</th>\n",
       "      <th>raw_passenger_searched</th>\n",
       "      <th>raw_search_consent</th>\n",
       "      <th>raw_search_arrest</th>\n",
       "      <th>raw_search_warrant</th>\n",
       "      <th>raw_search_inventory</th>\n",
       "      <th>raw_search_plain_view</th>\n",
       "    </tr>\n",
       "  </thead>\n",
       "  <tbody>\n",
       "    <tr>\n",
       "      <td>0</td>\n",
       "      <td>2010-10-10 nan</td>\n",
       "      <td>232947</td>\n",
       "      <td>DOMINICAN DR &amp; ROSA L PARKS BLVD, NASHVILLE, T...</td>\n",
       "      <td>36.187925</td>\n",
       "      <td>-86.798519</td>\n",
       "      <td>6</td>\n",
       "      <td>4403.0</td>\n",
       "      <td>611</td>\n",
       "      <td>27.0</td>\n",
       "      <td>black</td>\n",
       "      <td>...</td>\n",
       "      <td>False</td>\n",
       "      <td>NaN</td>\n",
       "      <td>N</td>\n",
       "      <td>False</td>\n",
       "      <td>False</td>\n",
       "      <td>False</td>\n",
       "      <td>False</td>\n",
       "      <td>False</td>\n",
       "      <td>False</td>\n",
       "      <td>False</td>\n",
       "    </tr>\n",
       "    <tr>\n",
       "      <td>1</td>\n",
       "      <td>2010-10-10 10:00:00</td>\n",
       "      <td>237161</td>\n",
       "      <td>1122 LEBANON PIKE, NASHVILLE, TN, 37210</td>\n",
       "      <td>36.155521</td>\n",
       "      <td>-86.735902</td>\n",
       "      <td>5</td>\n",
       "      <td>9035.0</td>\n",
       "      <td>513</td>\n",
       "      <td>18.0</td>\n",
       "      <td>white</td>\n",
       "      <td>...</td>\n",
       "      <td>True</td>\n",
       "      <td>NaN</td>\n",
       "      <td>N</td>\n",
       "      <td>False</td>\n",
       "      <td>False</td>\n",
       "      <td>False</td>\n",
       "      <td>False</td>\n",
       "      <td>False</td>\n",
       "      <td>False</td>\n",
       "      <td>False</td>\n",
       "    </tr>\n",
       "    <tr>\n",
       "      <td>2</td>\n",
       "      <td>2010-10-10 10:00:00</td>\n",
       "      <td>232902</td>\n",
       "      <td>898 DAVIDSON DR, , TN, 37205</td>\n",
       "      <td>36.117420</td>\n",
       "      <td>-86.895593</td>\n",
       "      <td>1</td>\n",
       "      <td>5005.0</td>\n",
       "      <td>121</td>\n",
       "      <td>52.0</td>\n",
       "      <td>white</td>\n",
       "      <td>...</td>\n",
       "      <td>False</td>\n",
       "      <td>NaN</td>\n",
       "      <td>N</td>\n",
       "      <td>False</td>\n",
       "      <td>False</td>\n",
       "      <td>False</td>\n",
       "      <td>False</td>\n",
       "      <td>False</td>\n",
       "      <td>False</td>\n",
       "      <td>False</td>\n",
       "    </tr>\n",
       "    <tr>\n",
       "      <td>3</td>\n",
       "      <td>2010-10-10 22:00:00</td>\n",
       "      <td>233219</td>\n",
       "      <td>MURFREESBORO PIKE &amp; NASHBORO BLVD, ANTIOCH, TN...</td>\n",
       "      <td>36.086799</td>\n",
       "      <td>-86.648581</td>\n",
       "      <td>3</td>\n",
       "      <td>8891.0</td>\n",
       "      <td>325</td>\n",
       "      <td>25.0</td>\n",
       "      <td>white</td>\n",
       "      <td>...</td>\n",
       "      <td>False</td>\n",
       "      <td>NaN</td>\n",
       "      <td>N</td>\n",
       "      <td>False</td>\n",
       "      <td>False</td>\n",
       "      <td>False</td>\n",
       "      <td>False</td>\n",
       "      <td>False</td>\n",
       "      <td>False</td>\n",
       "      <td>False</td>\n",
       "    </tr>\n",
       "    <tr>\n",
       "      <td>4</td>\n",
       "      <td>2010-10-10 01:00:00</td>\n",
       "      <td>232780</td>\n",
       "      <td>BUCHANAN ST, NORTH, TN, 37208</td>\n",
       "      <td>36.180038</td>\n",
       "      <td>-86.809109</td>\n",
       "      <td>NaN</td>\n",
       "      <td>NaN</td>\n",
       "      <td>NaN</td>\n",
       "      <td>21.0</td>\n",
       "      <td>black</td>\n",
       "      <td>...</td>\n",
       "      <td>False</td>\n",
       "      <td>NaN</td>\n",
       "      <td>N</td>\n",
       "      <td>True</td>\n",
       "      <td>True</td>\n",
       "      <td>False</td>\n",
       "      <td>False</td>\n",
       "      <td>False</td>\n",
       "      <td>False</td>\n",
       "      <td>False</td>\n",
       "    </tr>\n",
       "  </tbody>\n",
       "</table>\n",
       "<p>5 rows × 41 columns</p>\n",
       "</div>"
      ],
      "text/plain": [
       "             date_time raw_row_number  \\\n",
       "0       2010-10-10 nan         232947   \n",
       "1  2010-10-10 10:00:00         237161   \n",
       "2  2010-10-10 10:00:00         232902   \n",
       "3  2010-10-10 22:00:00         233219   \n",
       "4  2010-10-10 01:00:00         232780   \n",
       "\n",
       "                                            location        lat        lng  \\\n",
       "0  DOMINICAN DR & ROSA L PARKS BLVD, NASHVILLE, T...  36.187925 -86.798519   \n",
       "1            1122 LEBANON PIKE, NASHVILLE, TN, 37210  36.155521 -86.735902   \n",
       "2                       898 DAVIDSON DR, , TN, 37205  36.117420 -86.895593   \n",
       "3  MURFREESBORO PIKE & NASHBORO BLVD, ANTIOCH, TN...  36.086799 -86.648581   \n",
       "4                      BUCHANAN ST, NORTH, TN, 37208  36.180038 -86.809109   \n",
       "\n",
       "  precinct  reporting_area zone  subject_age subject_race  ...  \\\n",
       "0        6          4403.0  611         27.0        black  ...   \n",
       "1        5          9035.0  513         18.0        white  ...   \n",
       "2        1          5005.0  121         52.0        white  ...   \n",
       "3        3          8891.0  325         25.0        white  ...   \n",
       "4      NaN             NaN  NaN         21.0        black  ...   \n",
       "\n",
       "  raw_traffic_citation_issued raw_misd_state_citation_issued  \\\n",
       "0                       False                            NaN   \n",
       "1                        True                            NaN   \n",
       "2                       False                            NaN   \n",
       "3                       False                            NaN   \n",
       "4                       False                            NaN   \n",
       "\n",
       "  raw_suspect_ethnicity raw_driver_searched raw_passenger_searched  \\\n",
       "0                     N               False                  False   \n",
       "1                     N               False                  False   \n",
       "2                     N               False                  False   \n",
       "3                     N               False                  False   \n",
       "4                     N                True                   True   \n",
       "\n",
       "  raw_search_consent raw_search_arrest raw_search_warrant  \\\n",
       "0              False             False              False   \n",
       "1              False             False              False   \n",
       "2              False             False              False   \n",
       "3              False             False              False   \n",
       "4              False             False              False   \n",
       "\n",
       "  raw_search_inventory raw_search_plain_view  \n",
       "0                False                 False  \n",
       "1                False                 False  \n",
       "2                False                 False  \n",
       "3                False                 False  \n",
       "4                False                 False  \n",
       "\n",
       "[5 rows x 41 columns]"
      ]
     },
     "execution_count": 5,
     "metadata": {},
     "output_type": "execute_result"
    }
   ],
   "source": [
    "tn.head()"
   ]
  },
  {
   "cell_type": "code",
   "execution_count": 6,
   "metadata": {},
   "outputs": [
    {
     "data": {
      "text/plain": [
       "(3092351, 41)"
      ]
     },
     "execution_count": 6,
     "metadata": {},
     "output_type": "execute_result"
    }
   ],
   "source": [
    "tn.shape"
   ]
  },
  {
   "cell_type": "code",
   "execution_count": 7,
   "metadata": {},
   "outputs": [
    {
     "data": {
      "text/plain": [
       "Index(['date_time', 'raw_row_number', 'location', 'lat', 'lng', 'precinct',\n",
       "       'reporting_area', 'zone', 'subject_age', 'subject_race', 'subject_sex',\n",
       "       'officer_id_hash', 'type', 'violation', 'arrest_made',\n",
       "       'citation_issued', 'warning_issued', 'outcome', 'contraband_found',\n",
       "       'contraband_drugs', 'contraband_weapons', 'frisk_performed',\n",
       "       'search_conducted', 'search_person', 'search_vehicle', 'search_basis',\n",
       "       'reason_for_stop', 'vehicle_registration_state', 'notes',\n",
       "       'raw_verbal_warning_issued', 'raw_written_warning_issued',\n",
       "       'raw_traffic_citation_issued', 'raw_misd_state_citation_issued',\n",
       "       'raw_suspect_ethnicity', 'raw_driver_searched',\n",
       "       'raw_passenger_searched', 'raw_search_consent', 'raw_search_arrest',\n",
       "       'raw_search_warrant', 'raw_search_inventory', 'raw_search_plain_view'],\n",
       "      dtype='object')"
      ]
     },
     "execution_count": 7,
     "metadata": {},
     "output_type": "execute_result"
    }
   ],
   "source": [
    "tn.columns"
   ]
  },
  {
   "cell_type": "markdown",
   "metadata": {},
   "source": [
    "#### Removing the uneeded columns"
   ]
  },
  {
   "cell_type": "code",
   "execution_count": 8,
   "metadata": {},
   "outputs": [],
   "source": [
    "tn=tn.iloc[:,[0,1,2,4,5,9,10,11,13,14,15,16,17,18,19,20,21,22,23,24,]]"
   ]
  },
  {
   "cell_type": "code",
   "execution_count": 9,
   "metadata": {},
   "outputs": [
    {
     "data": {
      "text/plain": [
       "Index(['date_time', 'raw_row_number', 'location', 'lng', 'precinct',\n",
       "       'subject_race', 'subject_sex', 'officer_id_hash', 'violation',\n",
       "       'arrest_made', 'citation_issued', 'warning_issued', 'outcome',\n",
       "       'contraband_found', 'contraband_drugs', 'contraband_weapons',\n",
       "       'frisk_performed', 'search_conducted', 'search_person',\n",
       "       'search_vehicle'],\n",
       "      dtype='object')"
      ]
     },
     "execution_count": 9,
     "metadata": {},
     "output_type": "execute_result"
    }
   ],
   "source": [
    "tn.columns"
   ]
  },
  {
   "cell_type": "markdown",
   "metadata": {},
   "source": [
    "#### Checking for the nulls in each column"
   ]
  },
  {
   "cell_type": "code",
   "execution_count": 10,
   "metadata": {},
   "outputs": [
    {
     "data": {
      "text/plain": [
       "date_time                   0\n",
       "raw_row_number              0\n",
       "location                    0\n",
       "lng                    187106\n",
       "precinct               390222\n",
       "subject_race             1850\n",
       "subject_sex             12822\n",
       "officer_id_hash            11\n",
       "violation                8020\n",
       "arrest_made                28\n",
       "citation_issued           320\n",
       "warning_issued            337\n",
       "outcome                  1935\n",
       "contraband_found      2964646\n",
       "contraband_drugs      2964646\n",
       "contraband_weapons    2964646\n",
       "frisk_performed            22\n",
       "search_conducted           39\n",
       "search_person              43\n",
       "search_vehicle             41\n",
       "dtype: int64"
      ]
     },
     "execution_count": 10,
     "metadata": {},
     "output_type": "execute_result"
    }
   ],
   "source": [
    "tn.isnull().sum()"
   ]
  },
  {
   "cell_type": "markdown",
   "metadata": {},
   "source": [
    "#### Setting Date as index"
   ]
  },
  {
   "cell_type": "code",
   "execution_count": 11,
   "metadata": {},
   "outputs": [],
   "source": [
    "tn.set_index('date_time',inplace=True)"
   ]
  },
  {
   "cell_type": "code",
   "execution_count": 12,
   "metadata": {
    "scrolled": true
   },
   "outputs": [
    {
     "data": {
      "text/html": [
       "<div>\n",
       "<style scoped>\n",
       "    .dataframe tbody tr th:only-of-type {\n",
       "        vertical-align: middle;\n",
       "    }\n",
       "\n",
       "    .dataframe tbody tr th {\n",
       "        vertical-align: top;\n",
       "    }\n",
       "\n",
       "    .dataframe thead th {\n",
       "        text-align: right;\n",
       "    }\n",
       "</style>\n",
       "<table border=\"1\" class=\"dataframe\">\n",
       "  <thead>\n",
       "    <tr style=\"text-align: right;\">\n",
       "      <th></th>\n",
       "      <th>raw_row_number</th>\n",
       "      <th>location</th>\n",
       "      <th>lng</th>\n",
       "      <th>precinct</th>\n",
       "      <th>subject_race</th>\n",
       "      <th>subject_sex</th>\n",
       "      <th>officer_id_hash</th>\n",
       "      <th>violation</th>\n",
       "      <th>arrest_made</th>\n",
       "      <th>citation_issued</th>\n",
       "      <th>warning_issued</th>\n",
       "      <th>outcome</th>\n",
       "      <th>contraband_found</th>\n",
       "      <th>contraband_drugs</th>\n",
       "      <th>contraband_weapons</th>\n",
       "      <th>frisk_performed</th>\n",
       "      <th>search_conducted</th>\n",
       "      <th>search_person</th>\n",
       "      <th>search_vehicle</th>\n",
       "    </tr>\n",
       "    <tr>\n",
       "      <th>date_time</th>\n",
       "      <th></th>\n",
       "      <th></th>\n",
       "      <th></th>\n",
       "      <th></th>\n",
       "      <th></th>\n",
       "      <th></th>\n",
       "      <th></th>\n",
       "      <th></th>\n",
       "      <th></th>\n",
       "      <th></th>\n",
       "      <th></th>\n",
       "      <th></th>\n",
       "      <th></th>\n",
       "      <th></th>\n",
       "      <th></th>\n",
       "      <th></th>\n",
       "      <th></th>\n",
       "      <th></th>\n",
       "      <th></th>\n",
       "    </tr>\n",
       "  </thead>\n",
       "  <tbody>\n",
       "    <tr>\n",
       "      <td>2010-10-10 nan</td>\n",
       "      <td>232947</td>\n",
       "      <td>DOMINICAN DR &amp; ROSA L PARKS BLVD, NASHVILLE, T...</td>\n",
       "      <td>-86.798519</td>\n",
       "      <td>6</td>\n",
       "      <td>black</td>\n",
       "      <td>male</td>\n",
       "      <td>80ed1b32eb</td>\n",
       "      <td>investigative stop</td>\n",
       "      <td>False</td>\n",
       "      <td>False</td>\n",
       "      <td>True</td>\n",
       "      <td>warning</td>\n",
       "      <td>NaN</td>\n",
       "      <td>NaN</td>\n",
       "      <td>NaN</td>\n",
       "      <td>False</td>\n",
       "      <td>False</td>\n",
       "      <td>False</td>\n",
       "      <td>False</td>\n",
       "    </tr>\n",
       "    <tr>\n",
       "      <td>2010-10-10 10:00:00</td>\n",
       "      <td>237161</td>\n",
       "      <td>1122 LEBANON PIKE, NASHVILLE, TN, 37210</td>\n",
       "      <td>-86.735902</td>\n",
       "      <td>5</td>\n",
       "      <td>white</td>\n",
       "      <td>male</td>\n",
       "      <td>a983204b21</td>\n",
       "      <td>moving traffic violation</td>\n",
       "      <td>False</td>\n",
       "      <td>True</td>\n",
       "      <td>False</td>\n",
       "      <td>citation</td>\n",
       "      <td>NaN</td>\n",
       "      <td>NaN</td>\n",
       "      <td>NaN</td>\n",
       "      <td>False</td>\n",
       "      <td>False</td>\n",
       "      <td>False</td>\n",
       "      <td>False</td>\n",
       "    </tr>\n",
       "    <tr>\n",
       "      <td>2010-10-10 10:00:00</td>\n",
       "      <td>232902</td>\n",
       "      <td>898 DAVIDSON DR, , TN, 37205</td>\n",
       "      <td>-86.895593</td>\n",
       "      <td>1</td>\n",
       "      <td>white</td>\n",
       "      <td>male</td>\n",
       "      <td>f5d8fbd78b</td>\n",
       "      <td>vehicle equipment violation</td>\n",
       "      <td>False</td>\n",
       "      <td>False</td>\n",
       "      <td>True</td>\n",
       "      <td>warning</td>\n",
       "      <td>NaN</td>\n",
       "      <td>NaN</td>\n",
       "      <td>NaN</td>\n",
       "      <td>False</td>\n",
       "      <td>False</td>\n",
       "      <td>False</td>\n",
       "      <td>False</td>\n",
       "    </tr>\n",
       "    <tr>\n",
       "      <td>2010-10-10 22:00:00</td>\n",
       "      <td>233219</td>\n",
       "      <td>MURFREESBORO PIKE &amp; NASHBORO BLVD, ANTIOCH, TN...</td>\n",
       "      <td>-86.648581</td>\n",
       "      <td>3</td>\n",
       "      <td>white</td>\n",
       "      <td>male</td>\n",
       "      <td>4f1d028e45</td>\n",
       "      <td>registration</td>\n",
       "      <td>False</td>\n",
       "      <td>False</td>\n",
       "      <td>True</td>\n",
       "      <td>warning</td>\n",
       "      <td>NaN</td>\n",
       "      <td>NaN</td>\n",
       "      <td>NaN</td>\n",
       "      <td>False</td>\n",
       "      <td>False</td>\n",
       "      <td>False</td>\n",
       "      <td>False</td>\n",
       "    </tr>\n",
       "    <tr>\n",
       "      <td>2010-10-10 01:00:00</td>\n",
       "      <td>232780</td>\n",
       "      <td>BUCHANAN ST, NORTH, TN, 37208</td>\n",
       "      <td>-86.809109</td>\n",
       "      <td>NaN</td>\n",
       "      <td>black</td>\n",
       "      <td>male</td>\n",
       "      <td>0f0e6b7d67</td>\n",
       "      <td>vehicle equipment violation</td>\n",
       "      <td>False</td>\n",
       "      <td>False</td>\n",
       "      <td>True</td>\n",
       "      <td>warning</td>\n",
       "      <td>False</td>\n",
       "      <td>False</td>\n",
       "      <td>False</td>\n",
       "      <td>False</td>\n",
       "      <td>True</td>\n",
       "      <td>True</td>\n",
       "      <td>True</td>\n",
       "    </tr>\n",
       "  </tbody>\n",
       "</table>\n",
       "</div>"
      ],
      "text/plain": [
       "                    raw_row_number  \\\n",
       "date_time                            \n",
       "2010-10-10 nan              232947   \n",
       "2010-10-10 10:00:00         237161   \n",
       "2010-10-10 10:00:00         232902   \n",
       "2010-10-10 22:00:00         233219   \n",
       "2010-10-10 01:00:00         232780   \n",
       "\n",
       "                                                              location  \\\n",
       "date_time                                                                \n",
       "2010-10-10 nan       DOMINICAN DR & ROSA L PARKS BLVD, NASHVILLE, T...   \n",
       "2010-10-10 10:00:00            1122 LEBANON PIKE, NASHVILLE, TN, 37210   \n",
       "2010-10-10 10:00:00                       898 DAVIDSON DR, , TN, 37205   \n",
       "2010-10-10 22:00:00  MURFREESBORO PIKE & NASHBORO BLVD, ANTIOCH, TN...   \n",
       "2010-10-10 01:00:00                      BUCHANAN ST, NORTH, TN, 37208   \n",
       "\n",
       "                           lng precinct subject_race subject_sex  \\\n",
       "date_time                                                          \n",
       "2010-10-10 nan      -86.798519        6        black        male   \n",
       "2010-10-10 10:00:00 -86.735902        5        white        male   \n",
       "2010-10-10 10:00:00 -86.895593        1        white        male   \n",
       "2010-10-10 22:00:00 -86.648581        3        white        male   \n",
       "2010-10-10 01:00:00 -86.809109      NaN        black        male   \n",
       "\n",
       "                    officer_id_hash                    violation arrest_made  \\\n",
       "date_time                                                                      \n",
       "2010-10-10 nan           80ed1b32eb           investigative stop       False   \n",
       "2010-10-10 10:00:00      a983204b21     moving traffic violation       False   \n",
       "2010-10-10 10:00:00      f5d8fbd78b  vehicle equipment violation       False   \n",
       "2010-10-10 22:00:00      4f1d028e45                 registration       False   \n",
       "2010-10-10 01:00:00      0f0e6b7d67  vehicle equipment violation       False   \n",
       "\n",
       "                    citation_issued warning_issued   outcome contraband_found  \\\n",
       "date_time                                                                       \n",
       "2010-10-10 nan                False           True   warning              NaN   \n",
       "2010-10-10 10:00:00            True          False  citation              NaN   \n",
       "2010-10-10 10:00:00           False           True   warning              NaN   \n",
       "2010-10-10 22:00:00           False           True   warning              NaN   \n",
       "2010-10-10 01:00:00           False           True   warning            False   \n",
       "\n",
       "                    contraband_drugs contraband_weapons frisk_performed  \\\n",
       "date_time                                                                 \n",
       "2010-10-10 nan                   NaN                NaN           False   \n",
       "2010-10-10 10:00:00              NaN                NaN           False   \n",
       "2010-10-10 10:00:00              NaN                NaN           False   \n",
       "2010-10-10 22:00:00              NaN                NaN           False   \n",
       "2010-10-10 01:00:00            False              False           False   \n",
       "\n",
       "                    search_conducted search_person search_vehicle  \n",
       "date_time                                                          \n",
       "2010-10-10 nan                 False         False          False  \n",
       "2010-10-10 10:00:00            False         False          False  \n",
       "2010-10-10 10:00:00            False         False          False  \n",
       "2010-10-10 22:00:00            False         False          False  \n",
       "2010-10-10 01:00:00             True          True           True  "
      ]
     },
     "execution_count": 12,
     "metadata": {},
     "output_type": "execute_result"
    }
   ],
   "source": [
    "tn.head()"
   ]
  },
  {
   "cell_type": "markdown",
   "metadata": {},
   "source": [
    "#### 1.1. Is being arrested a gender dependeant?"
   ]
  },
  {
   "cell_type": "code",
   "execution_count": null,
   "metadata": {},
   "outputs": [],
   "source": [
    "tn.subject_sex.sum()"
   ]
  }
 ],
 "metadata": {
  "kernelspec": {
   "display_name": "Python 3",
   "language": "python",
   "name": "python3"
  },
  "language_info": {
   "codemirror_mode": {
    "name": "ipython",
    "version": 3
   },
   "file_extension": ".py",
   "mimetype": "text/x-python",
   "name": "python",
   "nbconvert_exporter": "python",
   "pygments_lexer": "ipython3",
   "version": "3.6.5"
  }
 },
 "nbformat": 4,
 "nbformat_minor": 2
}
