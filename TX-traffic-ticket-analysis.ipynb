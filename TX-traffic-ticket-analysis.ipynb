{
 "cells": [
  {
   "cell_type": "markdown",
   "metadata": {},
   "source": [
    "### The Stanford Data Project Analysis - Nashville, TN\n",
    "On a typical day in the United States, police officers make more than 50,000 traffic stops. Our team is gathering, analyzing, and releasing records from millions of traffic stops by law enforcement agencies across the country. Our goal is to help researchers, journalists, and policymakers investigate and improve interactions between police and the public."
   ]
  },
  {
   "cell_type": "markdown",
   "metadata": {},
   "source": [
    "### 1. Purpose-of-Analysis\n",
    "The purpose of the analysis is kind of hollistic approach to explore what we can get out of the data, so I am not sure if there is a specific purpose or question. I will insert all the questions that come to my mind below and will update this notebook frequently. So there are couple of questions we are trying to answer here:\n",
    "#### 1.1. Is being arrested a gender dependeant?\n",
    "#### 1.2 Is being arrested a race dependeant? \n",
    "#### 1.3 How the race distribution looks like comparing with the actual city race distribution?\n",
    "#### 1.4. Is the weather a playing factor of increasing/decreasing the tickets rates?\n",
    "#### 1.5 how the spatial distribution of the tickets looks  like?\n",
    "#### 1.6 How the spatial distribution of the tickets and gender looks like?\n",
    "#### 1.7 Do girls make violations at a specific time of the day?\n",
    "#### 1.8 How the type of violation is distributed around the city?\n",
    "#### 1.9 Are there any places in the city where speeding is the most common violation?"
   ]
  },
  {
   "cell_type": "markdown",
   "metadata": {},
   "source": [
    "### 2. Data aquisition\n",
    "The data of the project is in a form of compressed file hosted online, it will be downloaded and extracted to the project directory. You can always host the data anywhere else and change the pointer in the read csv  line"
   ]
  },
  {
   "cell_type": "code",
   "execution_count": 1,
   "metadata": {},
   "outputs": [],
   "source": [
    "import datetime\n",
    "import pandas as pd\n",
    "import requests, zipfile, io"
   ]
  },
  {
   "cell_type": "code",
   "execution_count": 1,
   "metadata": {},
   "outputs": [],
   "source": [
    "def fileReducer(file,reducedSize):\n",
    "    \"\"\" Takes fullsize csv file and randomly sample it to the given size\"\"\"\n",
    "    import pandas as pd\n",
    "    df=pd.read_csv(file)\n",
    "    dfFullSize=df.memory_usage().sum()/1e6\n",
    "    df_reduced=df.sample(frac=reducedSize/(1.4*dfFullSize))\n",
    "    df_reduced.to_csv('df_reduced.csv')"
   ]
  },
  {
   "cell_type": "code",
   "execution_count": null,
   "metadata": {},
   "outputs": [],
   "source": [
    "url=\"https://stacks.stanford.edu/file/druid:hp256wp2687/hp256wp2687_tn_nashville_2019_08_13.csv.zip\""
   ]
  },
  {
   "cell_type": "code",
   "execution_count": null,
   "metadata": {},
   "outputs": [],
   "source": [
    "r = requests.get(url)\n",
    "z = zipfile.ZipFile(io.BytesIO(r.content))\n",
    "z.extractall()\n",
    "tn_raw=pd.read_csv(z.namelist()[0], low_memory=False)"
   ]
  },
  {
   "cell_type": "code",
   "execution_count": 3,
   "metadata": {},
   "outputs": [
    {
     "name": "stderr",
     "output_type": "stream",
     "text": [
      "C:\\Users\\amalattar\\AppData\\Roaming\\Python\\Python36\\site-packages\\IPython\\core\\interactiveshell.py:3249: DtypeWarning: Columns (6,8,15,16,17,22,23,24,25,29,30,31,32,33,35,36,37,38,40,41) have mixed types. Specify dtype option on import or set low_memory=False.\n",
      "  if (await self.run_code(code, result,  async_=asy)):\n"
     ]
    }
   ],
   "source": [
    "fileReducer('tn_nashville_2019_08_13.csv',200)"
   ]
  },
  {
   "cell_type": "code",
   "execution_count": 77,
   "metadata": {},
   "outputs": [
    {
     "name": "stderr",
     "output_type": "stream",
     "text": [
      "C:\\Users\\amalattar\\AppData\\Roaming\\Python\\Python36\\site-packages\\IPython\\core\\interactiveshell.py:3058: DtypeWarning: Columns (7,9,16,17,18,23,24,25,26,31,33,36,37,38,39,42) have mixed types. Specify dtype option on import or set low_memory=False.\n",
      "  interactivity=interactivity, compiler=compiler, result=result)\n"
     ]
    }
   ],
   "source": [
    "tn_raw=pd.read_csv('df_reduced.csv', parse_dates=[['date', 'time']])"
   ]
  },
  {
   "cell_type": "code",
   "execution_count": 78,
   "metadata": {},
   "outputs": [],
   "source": [
    "tn=tn_raw.copy()"
   ]
  },
  {
   "cell_type": "markdown",
   "metadata": {},
   "source": [
    "### 3. Data Exploration and Cleaning\n",
    "In this step we will select the column of interest and  will drop all the na values in these columns. We will also drop the columns that we won't need or use."
   ]
  },
  {
   "cell_type": "code",
   "execution_count": 6,
   "metadata": {},
   "outputs": [
    {
     "data": {
      "text/html": [
       "<div>\n",
       "<style scoped>\n",
       "    .dataframe tbody tr th:only-of-type {\n",
       "        vertical-align: middle;\n",
       "    }\n",
       "\n",
       "    .dataframe tbody tr th {\n",
       "        vertical-align: top;\n",
       "    }\n",
       "\n",
       "    .dataframe thead th {\n",
       "        text-align: right;\n",
       "    }\n",
       "</style>\n",
       "<table border=\"1\" class=\"dataframe\">\n",
       "  <thead>\n",
       "    <tr style=\"text-align: right;\">\n",
       "      <th></th>\n",
       "      <th>date_time</th>\n",
       "      <th>Unnamed: 0</th>\n",
       "      <th>raw_row_number</th>\n",
       "      <th>location</th>\n",
       "      <th>lat</th>\n",
       "      <th>lng</th>\n",
       "      <th>precinct</th>\n",
       "      <th>reporting_area</th>\n",
       "      <th>zone</th>\n",
       "      <th>subject_age</th>\n",
       "      <th>subject_race</th>\n",
       "      <th>subject_sex</th>\n",
       "      <th>officer_id_hash</th>\n",
       "      <th>type</th>\n",
       "      <th>violation</th>\n",
       "      <th>arrest_made</th>\n",
       "      <th>citation_issued</th>\n",
       "      <th>warning_issued</th>\n",
       "      <th>outcome</th>\n",
       "      <th>contraband_found</th>\n",
       "      <th>contraband_drugs</th>\n",
       "      <th>contraband_weapons</th>\n",
       "      <th>frisk_performed</th>\n",
       "      <th>search_conducted</th>\n",
       "      <th>search_person</th>\n",
       "      <th>search_vehicle</th>\n",
       "      <th>search_basis</th>\n",
       "      <th>reason_for_stop</th>\n",
       "      <th>vehicle_registration_state</th>\n",
       "      <th>notes</th>\n",
       "      <th>raw_verbal_warning_issued</th>\n",
       "      <th>raw_written_warning_issued</th>\n",
       "      <th>raw_traffic_citation_issued</th>\n",
       "      <th>raw_misd_state_citation_issued</th>\n",
       "      <th>raw_suspect_ethnicity</th>\n",
       "      <th>raw_driver_searched</th>\n",
       "      <th>raw_passenger_searched</th>\n",
       "      <th>raw_search_consent</th>\n",
       "      <th>raw_search_arrest</th>\n",
       "      <th>raw_search_warrant</th>\n",
       "      <th>raw_search_inventory</th>\n",
       "      <th>raw_search_plain_view</th>\n",
       "    </tr>\n",
       "  </thead>\n",
       "  <tbody>\n",
       "    <tr>\n",
       "      <td>0</td>\n",
       "      <td>2015-01-15 13:27:00</td>\n",
       "      <td>431346</td>\n",
       "      <td>1997429</td>\n",
       "      <td>I 65 S &amp; I 24 ENTRY W, NASHVILLE, TN, 37207</td>\n",
       "      <td>35.727554</td>\n",
       "      <td>-86.960493</td>\n",
       "      <td>2</td>\n",
       "      <td>18041.0</td>\n",
       "      <td>223.0</td>\n",
       "      <td>26.0</td>\n",
       "      <td>white</td>\n",
       "      <td>female</td>\n",
       "      <td>498350de5b</td>\n",
       "      <td>vehicular</td>\n",
       "      <td>moving traffic violation</td>\n",
       "      <td>False</td>\n",
       "      <td>True</td>\n",
       "      <td>False</td>\n",
       "      <td>citation</td>\n",
       "      <td>NaN</td>\n",
       "      <td>NaN</td>\n",
       "      <td>NaN</td>\n",
       "      <td>False</td>\n",
       "      <td>False</td>\n",
       "      <td>False</td>\n",
       "      <td>False</td>\n",
       "      <td>NaN</td>\n",
       "      <td>moving traffic violation</td>\n",
       "      <td>TN</td>\n",
       "      <td>I WAS RUNNING STATIONARY LASER ON THE SHOULDER...</td>\n",
       "      <td>False</td>\n",
       "      <td>False</td>\n",
       "      <td>True</td>\n",
       "      <td>False</td>\n",
       "      <td>N</td>\n",
       "      <td>False</td>\n",
       "      <td>False</td>\n",
       "      <td>False</td>\n",
       "      <td>False</td>\n",
       "      <td>False</td>\n",
       "      <td>False</td>\n",
       "      <td>False</td>\n",
       "    </tr>\n",
       "    <tr>\n",
       "      <td>1</td>\n",
       "      <td>2012-11-15 23:20:00</td>\n",
       "      <td>268994</td>\n",
       "      <td>1086459</td>\n",
       "      <td>ANTIOCH PIKE &amp; NOLENSVILLE PIKE, NASHVILLE, TN...</td>\n",
       "      <td>36.101784</td>\n",
       "      <td>-86.740543</td>\n",
       "      <td>8</td>\n",
       "      <td>8515.0</td>\n",
       "      <td>831.0</td>\n",
       "      <td>45.0</td>\n",
       "      <td>black</td>\n",
       "      <td>female</td>\n",
       "      <td>3a4171e2e6</td>\n",
       "      <td>vehicular</td>\n",
       "      <td>vehicle equipment violation</td>\n",
       "      <td>False</td>\n",
       "      <td>False</td>\n",
       "      <td>True</td>\n",
       "      <td>warning</td>\n",
       "      <td>NaN</td>\n",
       "      <td>NaN</td>\n",
       "      <td>NaN</td>\n",
       "      <td>False</td>\n",
       "      <td>False</td>\n",
       "      <td>False</td>\n",
       "      <td>False</td>\n",
       "      <td>NaN</td>\n",
       "      <td>vehicle equipment violation</td>\n",
       "      <td>TN</td>\n",
       "      <td>tint</td>\n",
       "      <td>True</td>\n",
       "      <td>False</td>\n",
       "      <td>False</td>\n",
       "      <td>False</td>\n",
       "      <td>N</td>\n",
       "      <td>False</td>\n",
       "      <td>False</td>\n",
       "      <td>False</td>\n",
       "      <td>False</td>\n",
       "      <td>False</td>\n",
       "      <td>False</td>\n",
       "      <td>False</td>\n",
       "    </tr>\n",
       "    <tr>\n",
       "      <td>2</td>\n",
       "      <td>2013-09-01 23:47:00</td>\n",
       "      <td>2902086</td>\n",
       "      <td>1437304</td>\n",
       "      <td>E OLD HICKORY BLVD &amp; SANDHURST DR, MADISON, TN...</td>\n",
       "      <td>36.261688</td>\n",
       "      <td>-86.677991</td>\n",
       "      <td>7</td>\n",
       "      <td>1635.0</td>\n",
       "      <td>713</td>\n",
       "      <td>45.0</td>\n",
       "      <td>black</td>\n",
       "      <td>female</td>\n",
       "      <td>4ff9d8c9ea</td>\n",
       "      <td>vehicular</td>\n",
       "      <td>vehicle equipment violation</td>\n",
       "      <td>False</td>\n",
       "      <td>False</td>\n",
       "      <td>True</td>\n",
       "      <td>warning</td>\n",
       "      <td>NaN</td>\n",
       "      <td>NaN</td>\n",
       "      <td>NaN</td>\n",
       "      <td>False</td>\n",
       "      <td>False</td>\n",
       "      <td>False</td>\n",
       "      <td>False</td>\n",
       "      <td>NaN</td>\n",
       "      <td>vehicle equipment violation</td>\n",
       "      <td>TN</td>\n",
       "      <td>NaN</td>\n",
       "      <td>True</td>\n",
       "      <td>False</td>\n",
       "      <td>False</td>\n",
       "      <td>False</td>\n",
       "      <td>N</td>\n",
       "      <td>False</td>\n",
       "      <td>False</td>\n",
       "      <td>False</td>\n",
       "      <td>False</td>\n",
       "      <td>False</td>\n",
       "      <td>False</td>\n",
       "      <td>False</td>\n",
       "    </tr>\n",
       "    <tr>\n",
       "      <td>3</td>\n",
       "      <td>2010-03-05 17:20:00</td>\n",
       "      <td>1730535</td>\n",
       "      <td>136138</td>\n",
       "      <td>BRILEY PKWY &amp; MCGAVOCK PIKE, NASHVILLE, TN, 37214</td>\n",
       "      <td>36.153834</td>\n",
       "      <td>-86.685459</td>\n",
       "      <td>5</td>\n",
       "      <td>9290.0</td>\n",
       "      <td>515</td>\n",
       "      <td>31.0</td>\n",
       "      <td>white</td>\n",
       "      <td>female</td>\n",
       "      <td>b1a0b13693</td>\n",
       "      <td>vehicular</td>\n",
       "      <td>moving traffic violation</td>\n",
       "      <td>False</td>\n",
       "      <td>False</td>\n",
       "      <td>True</td>\n",
       "      <td>warning</td>\n",
       "      <td>NaN</td>\n",
       "      <td>NaN</td>\n",
       "      <td>NaN</td>\n",
       "      <td>False</td>\n",
       "      <td>False</td>\n",
       "      <td>False</td>\n",
       "      <td>False</td>\n",
       "      <td>NaN</td>\n",
       "      <td>moving traffic violation</td>\n",
       "      <td>TN</td>\n",
       "      <td>NO MDC\\n</td>\n",
       "      <td>True</td>\n",
       "      <td>False</td>\n",
       "      <td>False</td>\n",
       "      <td>NaN</td>\n",
       "      <td>N</td>\n",
       "      <td>False</td>\n",
       "      <td>False</td>\n",
       "      <td>False</td>\n",
       "      <td>False</td>\n",
       "      <td>False</td>\n",
       "      <td>False</td>\n",
       "      <td>False</td>\n",
       "    </tr>\n",
       "    <tr>\n",
       "      <td>4</td>\n",
       "      <td>2011-10-29 00:34:00</td>\n",
       "      <td>142519</td>\n",
       "      <td>636210</td>\n",
       "      <td>711 RIVERGATE PKWY, GOODLETTSVILLE, TN, 37072</td>\n",
       "      <td>36.305207</td>\n",
       "      <td>-86.703369</td>\n",
       "      <td>7</td>\n",
       "      <td>1753.0</td>\n",
       "      <td>727.0</td>\n",
       "      <td>28.0</td>\n",
       "      <td>white</td>\n",
       "      <td>male</td>\n",
       "      <td>4ff9d8c9ea</td>\n",
       "      <td>vehicular</td>\n",
       "      <td>vehicle equipment violation</td>\n",
       "      <td>True</td>\n",
       "      <td>False</td>\n",
       "      <td>True</td>\n",
       "      <td>arrest</td>\n",
       "      <td>False</td>\n",
       "      <td>False</td>\n",
       "      <td>False</td>\n",
       "      <td>True</td>\n",
       "      <td>True</td>\n",
       "      <td>True</td>\n",
       "      <td>True</td>\n",
       "      <td>consent</td>\n",
       "      <td>vehicle equipment violation</td>\n",
       "      <td>TN</td>\n",
       "      <td>NaN</td>\n",
       "      <td>True</td>\n",
       "      <td>False</td>\n",
       "      <td>False</td>\n",
       "      <td>NaN</td>\n",
       "      <td>N</td>\n",
       "      <td>True</td>\n",
       "      <td>False</td>\n",
       "      <td>True</td>\n",
       "      <td>True</td>\n",
       "      <td>False</td>\n",
       "      <td>False</td>\n",
       "      <td>False</td>\n",
       "    </tr>\n",
       "  </tbody>\n",
       "</table>\n",
       "</div>"
      ],
      "text/plain": [
       "             date_time  Unnamed: 0 raw_row_number  ... raw_search_warrant  raw_search_inventory  raw_search_plain_view\n",
       "0  2015-01-15 13:27:00      431346        1997429  ...              False                 False                  False\n",
       "1  2012-11-15 23:20:00      268994        1086459  ...              False                 False                  False\n",
       "2  2013-09-01 23:47:00     2902086        1437304  ...              False                 False                  False\n",
       "3  2010-03-05 17:20:00     1730535         136138  ...              False                 False                  False\n",
       "4  2011-10-29 00:34:00      142519         636210  ...              False                 False                  False\n",
       "\n",
       "[5 rows x 42 columns]"
      ]
     },
     "execution_count": 6,
     "metadata": {},
     "output_type": "execute_result"
    }
   ],
   "source": [
    "tn.head()"
   ]
  },
  {
   "cell_type": "code",
   "execution_count": 7,
   "metadata": {},
   "outputs": [
    {
     "data": {
      "text/plain": [
       "(434216, 42)"
      ]
     },
     "execution_count": 7,
     "metadata": {},
     "output_type": "execute_result"
    }
   ],
   "source": [
    "tn.shape"
   ]
  },
  {
   "cell_type": "code",
   "execution_count": 8,
   "metadata": {},
   "outputs": [
    {
     "data": {
      "text/plain": [
       "Index(['date_time', 'Unnamed: 0', 'raw_row_number', 'location', 'lat', 'lng',\n",
       "       'precinct', 'reporting_area', 'zone', 'subject_age', 'subject_race',\n",
       "       'subject_sex', 'officer_id_hash', 'type', 'violation', 'arrest_made',\n",
       "       'citation_issued', 'warning_issued', 'outcome', 'contraband_found',\n",
       "       'contraband_drugs', 'contraband_weapons', 'frisk_performed',\n",
       "       'search_conducted', 'search_person', 'search_vehicle', 'search_basis',\n",
       "       'reason_for_stop', 'vehicle_registration_state', 'notes',\n",
       "       'raw_verbal_warning_issued', 'raw_written_warning_issued',\n",
       "       'raw_traffic_citation_issued', 'raw_misd_state_citation_issued',\n",
       "       'raw_suspect_ethnicity', 'raw_driver_searched',\n",
       "       'raw_passenger_searched', 'raw_search_consent', 'raw_search_arrest',\n",
       "       'raw_search_warrant', 'raw_search_inventory', 'raw_search_plain_view'],\n",
       "      dtype='object')"
      ]
     },
     "execution_count": 8,
     "metadata": {},
     "output_type": "execute_result"
    }
   ],
   "source": [
    "tn.columns"
   ]
  },
  {
   "cell_type": "markdown",
   "metadata": {},
   "source": [
    "#### Removing the uneeded columns"
   ]
  },
  {
   "cell_type": "code",
   "execution_count": 9,
   "metadata": {},
   "outputs": [],
   "source": [
    "tn=tn.iloc[:,[0,1,2,4,5,9,10,11,13,14,15,16,17,18,19,20,21,22,23,24,]]"
   ]
  },
  {
   "cell_type": "code",
   "execution_count": 10,
   "metadata": {},
   "outputs": [
    {
     "data": {
      "text/plain": [
       "Index(['date_time', 'Unnamed: 0', 'raw_row_number', 'lat', 'lng',\n",
       "       'subject_age', 'subject_race', 'subject_sex', 'type', 'violation',\n",
       "       'arrest_made', 'citation_issued', 'warning_issued', 'outcome',\n",
       "       'contraband_found', 'contraband_drugs', 'contraband_weapons',\n",
       "       'frisk_performed', 'search_conducted', 'search_person'],\n",
       "      dtype='object')"
      ]
     },
     "execution_count": 10,
     "metadata": {},
     "output_type": "execute_result"
    }
   ],
   "source": [
    "tn.columns"
   ]
  },
  {
   "cell_type": "markdown",
   "metadata": {},
   "source": [
    "#### Checking for the nulls in each column"
   ]
  },
  {
   "cell_type": "code",
   "execution_count": 11,
   "metadata": {},
   "outputs": [
    {
     "data": {
      "text/plain": [
       "date_time                  0\n",
       "Unnamed: 0                 0\n",
       "raw_row_number             0\n",
       "lat                    26156\n",
       "lng                    26156\n",
       "subject_age              118\n",
       "subject_race             273\n",
       "subject_sex             1804\n",
       "type                       0\n",
       "violation               1096\n",
       "arrest_made                5\n",
       "citation_issued           40\n",
       "warning_issued            48\n",
       "outcome                  254\n",
       "contraband_found      416356\n",
       "contraband_drugs      416356\n",
       "contraband_weapons    416356\n",
       "frisk_performed            3\n",
       "search_conducted          10\n",
       "search_person             10\n",
       "dtype: int64"
      ]
     },
     "execution_count": 11,
     "metadata": {},
     "output_type": "execute_result"
    }
   ],
   "source": [
    "tn.isnull().sum()"
   ]
  },
  {
   "cell_type": "markdown",
   "metadata": {},
   "source": [
    "#### Setting Date as index"
   ]
  },
  {
   "cell_type": "code",
   "execution_count": 12,
   "metadata": {},
   "outputs": [],
   "source": [
    "tn.set_index('date_time',inplace=True)"
   ]
  },
  {
   "cell_type": "code",
   "execution_count": 13,
   "metadata": {
    "scrolled": true
   },
   "outputs": [
    {
     "data": {
      "text/html": [
       "<div>\n",
       "<style scoped>\n",
       "    .dataframe tbody tr th:only-of-type {\n",
       "        vertical-align: middle;\n",
       "    }\n",
       "\n",
       "    .dataframe tbody tr th {\n",
       "        vertical-align: top;\n",
       "    }\n",
       "\n",
       "    .dataframe thead th {\n",
       "        text-align: right;\n",
       "    }\n",
       "</style>\n",
       "<table border=\"1\" class=\"dataframe\">\n",
       "  <thead>\n",
       "    <tr style=\"text-align: right;\">\n",
       "      <th></th>\n",
       "      <th>Unnamed: 0</th>\n",
       "      <th>raw_row_number</th>\n",
       "      <th>lat</th>\n",
       "      <th>lng</th>\n",
       "      <th>subject_age</th>\n",
       "      <th>subject_race</th>\n",
       "      <th>subject_sex</th>\n",
       "      <th>type</th>\n",
       "      <th>violation</th>\n",
       "      <th>arrest_made</th>\n",
       "      <th>citation_issued</th>\n",
       "      <th>warning_issued</th>\n",
       "      <th>outcome</th>\n",
       "      <th>contraband_found</th>\n",
       "      <th>contraband_drugs</th>\n",
       "      <th>contraband_weapons</th>\n",
       "      <th>frisk_performed</th>\n",
       "      <th>search_conducted</th>\n",
       "      <th>search_person</th>\n",
       "    </tr>\n",
       "    <tr>\n",
       "      <th>date_time</th>\n",
       "      <th></th>\n",
       "      <th></th>\n",
       "      <th></th>\n",
       "      <th></th>\n",
       "      <th></th>\n",
       "      <th></th>\n",
       "      <th></th>\n",
       "      <th></th>\n",
       "      <th></th>\n",
       "      <th></th>\n",
       "      <th></th>\n",
       "      <th></th>\n",
       "      <th></th>\n",
       "      <th></th>\n",
       "      <th></th>\n",
       "      <th></th>\n",
       "      <th></th>\n",
       "      <th></th>\n",
       "      <th></th>\n",
       "    </tr>\n",
       "  </thead>\n",
       "  <tbody>\n",
       "    <tr>\n",
       "      <td>2015-01-15 13:27:00</td>\n",
       "      <td>431346</td>\n",
       "      <td>1997429</td>\n",
       "      <td>35.727554</td>\n",
       "      <td>-86.960493</td>\n",
       "      <td>26.0</td>\n",
       "      <td>white</td>\n",
       "      <td>female</td>\n",
       "      <td>vehicular</td>\n",
       "      <td>moving traffic violation</td>\n",
       "      <td>False</td>\n",
       "      <td>True</td>\n",
       "      <td>False</td>\n",
       "      <td>citation</td>\n",
       "      <td>NaN</td>\n",
       "      <td>NaN</td>\n",
       "      <td>NaN</td>\n",
       "      <td>False</td>\n",
       "      <td>False</td>\n",
       "      <td>False</td>\n",
       "    </tr>\n",
       "    <tr>\n",
       "      <td>2012-11-15 23:20:00</td>\n",
       "      <td>268994</td>\n",
       "      <td>1086459</td>\n",
       "      <td>36.101784</td>\n",
       "      <td>-86.740543</td>\n",
       "      <td>45.0</td>\n",
       "      <td>black</td>\n",
       "      <td>female</td>\n",
       "      <td>vehicular</td>\n",
       "      <td>vehicle equipment violation</td>\n",
       "      <td>False</td>\n",
       "      <td>False</td>\n",
       "      <td>True</td>\n",
       "      <td>warning</td>\n",
       "      <td>NaN</td>\n",
       "      <td>NaN</td>\n",
       "      <td>NaN</td>\n",
       "      <td>False</td>\n",
       "      <td>False</td>\n",
       "      <td>False</td>\n",
       "    </tr>\n",
       "    <tr>\n",
       "      <td>2013-09-01 23:47:00</td>\n",
       "      <td>2902086</td>\n",
       "      <td>1437304</td>\n",
       "      <td>36.261688</td>\n",
       "      <td>-86.677991</td>\n",
       "      <td>45.0</td>\n",
       "      <td>black</td>\n",
       "      <td>female</td>\n",
       "      <td>vehicular</td>\n",
       "      <td>vehicle equipment violation</td>\n",
       "      <td>False</td>\n",
       "      <td>False</td>\n",
       "      <td>True</td>\n",
       "      <td>warning</td>\n",
       "      <td>NaN</td>\n",
       "      <td>NaN</td>\n",
       "      <td>NaN</td>\n",
       "      <td>False</td>\n",
       "      <td>False</td>\n",
       "      <td>False</td>\n",
       "    </tr>\n",
       "    <tr>\n",
       "      <td>2010-03-05 17:20:00</td>\n",
       "      <td>1730535</td>\n",
       "      <td>136138</td>\n",
       "      <td>36.153834</td>\n",
       "      <td>-86.685459</td>\n",
       "      <td>31.0</td>\n",
       "      <td>white</td>\n",
       "      <td>female</td>\n",
       "      <td>vehicular</td>\n",
       "      <td>moving traffic violation</td>\n",
       "      <td>False</td>\n",
       "      <td>False</td>\n",
       "      <td>True</td>\n",
       "      <td>warning</td>\n",
       "      <td>NaN</td>\n",
       "      <td>NaN</td>\n",
       "      <td>NaN</td>\n",
       "      <td>False</td>\n",
       "      <td>False</td>\n",
       "      <td>False</td>\n",
       "    </tr>\n",
       "    <tr>\n",
       "      <td>2011-10-29 00:34:00</td>\n",
       "      <td>142519</td>\n",
       "      <td>636210</td>\n",
       "      <td>36.305207</td>\n",
       "      <td>-86.703369</td>\n",
       "      <td>28.0</td>\n",
       "      <td>white</td>\n",
       "      <td>male</td>\n",
       "      <td>vehicular</td>\n",
       "      <td>vehicle equipment violation</td>\n",
       "      <td>True</td>\n",
       "      <td>False</td>\n",
       "      <td>True</td>\n",
       "      <td>arrest</td>\n",
       "      <td>False</td>\n",
       "      <td>False</td>\n",
       "      <td>False</td>\n",
       "      <td>True</td>\n",
       "      <td>True</td>\n",
       "      <td>True</td>\n",
       "    </tr>\n",
       "  </tbody>\n",
       "</table>\n",
       "</div>"
      ],
      "text/plain": [
       "                     Unnamed: 0 raw_row_number        lat        lng  ...  contraband_weapons frisk_performed search_conducted search_person\n",
       "date_time                                                             ...                                                                   \n",
       "2015-01-15 13:27:00      431346        1997429  35.727554 -86.960493  ...                 NaN           False            False         False\n",
       "2012-11-15 23:20:00      268994        1086459  36.101784 -86.740543  ...                 NaN           False            False         False\n",
       "2013-09-01 23:47:00     2902086        1437304  36.261688 -86.677991  ...                 NaN           False            False         False\n",
       "2010-03-05 17:20:00     1730535         136138  36.153834 -86.685459  ...                 NaN           False            False         False\n",
       "2011-10-29 00:34:00      142519         636210  36.305207 -86.703369  ...               False            True             True          True\n",
       "\n",
       "[5 rows x 19 columns]"
      ]
     },
     "execution_count": 13,
     "metadata": {},
     "output_type": "execute_result"
    }
   ],
   "source": [
    "tn.head()"
   ]
  },
  {
   "cell_type": "markdown",
   "metadata": {},
   "source": [
    "#### 1.1. Is being arrested a gender dependeant?"
   ]
  },
  {
   "cell_type": "code",
   "execution_count": 79,
   "metadata": {},
   "outputs": [
    {
     "data": {
      "text/plain": [
       "male      256696\n",
       "female    175716\n",
       "Name: subject_sex, dtype: int64"
      ]
     },
     "execution_count": 79,
     "metadata": {},
     "output_type": "execute_result"
    }
   ],
   "source": [
    "tn.subject_sex.value_counts(normalize=0)"
   ]
  },
  {
   "cell_type": "code",
   "execution_count": 80,
   "metadata": {},
   "outputs": [],
   "source": [
    "#tn.arrest_made[tn.arrest_made.notnull()]=tn.arrest_made[tn.arrest_made.notnull()].astype('int64')"
   ]
  },
  {
   "cell_type": "code",
   "execution_count": 81,
   "metadata": {},
   "outputs": [],
   "source": [
    "tn.dropna(subset=['arrest_made'], inplace=True)"
   ]
  },
  {
   "cell_type": "code",
   "execution_count": 82,
   "metadata": {},
   "outputs": [
    {
     "data": {
      "text/plain": [
       "date_time                          object\n",
       "Unnamed: 0                          int64\n",
       "raw_row_number                     object\n",
       "location                           object\n",
       "lat                               float64\n",
       "lng                               float64\n",
       "precinct                           object\n",
       "reporting_area                    float64\n",
       "zone                               object\n",
       "subject_age                       float64\n",
       "subject_race                       object\n",
       "subject_sex                        object\n",
       "officer_id_hash                    object\n",
       "type                               object\n",
       "violation                          object\n",
       "arrest_made                        object\n",
       "citation_issued                    object\n",
       "warning_issued                     object\n",
       "outcome                            object\n",
       "contraband_found                   object\n",
       "contraband_drugs                   object\n",
       "contraband_weapons                 object\n",
       "frisk_performed                    object\n",
       "search_conducted                   object\n",
       "search_person                      object\n",
       "search_vehicle                     object\n",
       "search_basis                       object\n",
       "reason_for_stop                    object\n",
       "vehicle_registration_state         object\n",
       "notes                              object\n",
       "raw_verbal_warning_issued          object\n",
       "raw_written_warning_issued         object\n",
       "raw_traffic_citation_issued        object\n",
       "raw_misd_state_citation_issued     object\n",
       "raw_suspect_ethnicity              object\n",
       "raw_driver_searched                object\n",
       "raw_passenger_searched             object\n",
       "raw_search_consent                 object\n",
       "raw_search_arrest                  object\n",
       "raw_search_warrant                   bool\n",
       "raw_search_inventory                 bool\n",
       "raw_search_plain_view              object\n",
       "dtype: object"
      ]
     },
     "execution_count": 82,
     "metadata": {},
     "output_type": "execute_result"
    }
   ],
   "source": [
    "#tn.groupby(['subject_sex']).arrest_made.mean()\n",
    "tn.dtypes"
   ]
  },
  {
   "cell_type": "code",
   "execution_count": 84,
   "metadata": {},
   "outputs": [],
   "source": [
    "tn.arrest_made=tn.arrest_made.astype(int)"
   ]
  },
  {
   "cell_type": "code",
   "execution_count": 102,
   "metadata": {},
   "outputs": [
    {
     "data": {
      "text/plain": [
       "female    1.053985\n",
       "male      2.033168\n",
       "dtype: float64"
      ]
     },
     "execution_count": 102,
     "metadata": {},
     "output_type": "execute_result"
    }
   ],
   "source": [
    "tn.groupby('subject_sex').arrest_made.sum()/tn.subject_sex.value_counts()*100"
   ]
  }
 ],
 "metadata": {
  "kernelspec": {
   "display_name": "Python 3",
   "language": "python",
   "name": "python3"
  },
  "language_info": {
   "codemirror_mode": {
    "name": "ipython",
    "version": 3
   },
   "file_extension": ".py",
   "mimetype": "text/x-python",
   "name": "python",
   "nbconvert_exporter": "python",
   "pygments_lexer": "ipython3",
   "version": "3.6.5"
  }
 },
 "nbformat": 4,
 "nbformat_minor": 2
}
