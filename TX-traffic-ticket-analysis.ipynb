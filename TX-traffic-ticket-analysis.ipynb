{
 "cells": [
  {
   "cell_type": "markdown",
   "metadata": {},
   "source": [
    "### The Stanford Data Project Analysis - Nashville, TN\n",
    "On a typical day in the United States, police officers make more than 50,000 traffic stops. Our team is gathering, analyzing, and releasing records from millions of traffic stops by law enforcement agencies across the country. Our goal is to help researchers, journalists, and policymakers investigate and improve interactions between police and the public."
   ]
  },
  {
   "cell_type": "markdown",
   "metadata": {},
   "source": [
    "### 1.Purpose-of-Analysis\n",
    "The purpose of the analysis is kind of hollistic approach to explore what we can get out of the data, so I am not sure if there is a specific purpose or question. I will insert all the questions that come to my mind below and will update this notebook frequently. So there are couple of questions we are trying to answer here:\n",
    "#### 1.1. Is being arrested a gender dependeant?\n",
    "#### 1.2 Is being arrested a race dependeant? \n",
    "#### 1.3 How the race distribution looks like comparing with the actual city race distribution?\n",
    "#### 1.4. Is the weather a playing factor of increasing/decreasing the tickets rates?\n",
    "#### 1.5 how the spatial distribution of the tickets looks  like?\n",
    "#### 1.6 How the spatial distribution of the tickets and gender looks like?\n",
    "#### 1.7 Do girls make violations at a specific time of the day?\n",
    "#### 1.8 How the type of violation is distributed around the city?\n",
    "#### 1.9 Are there any places in the city where speeding is the most common violation?"
   ]
  },
  {
   "cell_type": "markdown",
   "metadata": {},
   "source": [
    "### 3. Data aquisition\n",
    "The data of the project is in a form of compressed file hosted online, it will be downloaded and extracted to the project directory. You can always host the data anywhere else and change the pointer in the read csv  line"
   ]
  },
  {
   "cell_type": "code",
   "execution_count": 1,
   "metadata": {},
   "outputs": [],
   "source": [
    "import pandas as pd\n",
    "import requests, zipfile, io"
   ]
  },
  {
   "cell_type": "code",
   "execution_count": 2,
   "metadata": {},
   "outputs": [],
   "source": [
    "url=\"https://stacks.stanford.edu/file/druid:hp256wp2687/hp256wp2687_tn_nashville_2019_08_13.csv.zip\""
   ]
  },
  {
   "cell_type": "code",
   "execution_count": 3,
   "metadata": {},
   "outputs": [],
   "source": [
    "r = requests.get(url)\n",
    "z = zipfile.ZipFile(io.BytesIO(r.content))\n",
    "z.extractall()"
   ]
  },
  {
   "cell_type": "code",
   "execution_count": 4,
   "metadata": {},
   "outputs": [],
   "source": [
    "tn_raw=pd.read_csv(z.namelist()[0], low_memory=False)"
   ]
  },
  {
   "cell_type": "code",
   "execution_count": 5,
   "metadata": {},
   "outputs": [],
   "source": [
    "tn=tn_raw.copy()"
   ]
  },
  {
   "cell_type": "markdown",
   "metadata": {},
   "source": [
    "### 4. Data Exploration\n",
    "In this step we will select the column of interest and  will drop all the na values in these columns."
   ]
  },
  {
   "cell_type": "code",
   "execution_count": 6,
   "metadata": {},
   "outputs": [
    {
     "data": {
      "text/plain": [
       "(3092351, 42)"
      ]
     },
     "execution_count": 6,
     "metadata": {},
     "output_type": "execute_result"
    }
   ],
   "source": [
    "tn.shape"
   ]
  },
  {
   "cell_type": "code",
   "execution_count": 9,
   "metadata": {},
   "outputs": [
    {
     "data": {
      "text/plain": [
       "raw_row_number                          0\n",
       "date                                    0\n",
       "time                                 5467\n",
       "location                                0\n",
       "lat                                187106\n",
       "lng                                187106\n",
       "precinct                           390222\n",
       "reporting_area                     332393\n",
       "zone                               390222\n",
       "subject_age                           839\n",
       "subject_race                         1850\n",
       "subject_sex                         12822\n",
       "officer_id_hash                        11\n",
       "type                                    0\n",
       "violation                            8020\n",
       "arrest_made                            28\n",
       "citation_issued                       320\n",
       "warning_issued                        337\n",
       "outcome                              1935\n",
       "contraband_found                  2964646\n",
       "contraband_drugs                  2964646\n",
       "contraband_weapons                2964646\n",
       "frisk_performed                        22\n",
       "search_conducted                       39\n",
       "search_person                          43\n",
       "search_vehicle                         41\n",
       "search_basis                      2964646\n",
       "reason_for_stop                      8020\n",
       "vehicle_registration_state          31791\n",
       "notes                             2579696\n",
       "raw_verbal_warning_issued             337\n",
       "raw_written_warning_issued         493091\n",
       "raw_traffic_citation_issued           321\n",
       "raw_misd_state_citation_issued     693814\n",
       "raw_suspect_ethnicity                  77\n",
       "raw_driver_searched                    30\n",
       "raw_passenger_searched                  9\n",
       "raw_search_consent                     21\n",
       "raw_search_arrest                      13\n",
       "raw_search_warrant                      0\n",
       "raw_search_inventory                    2\n",
       "raw_search_plain_view                   7\n",
       "dtype: int64"
      ]
     },
     "execution_count": 9,
     "metadata": {},
     "output_type": "execute_result"
    }
   ],
   "source": [
    "tn.isnull().sum()"
   ]
  },
  {
   "cell_type": "markdown",
   "metadata": {},
   "source": [
    "### Data Exploration\n",
    "In this section we will perform some basic data analysis and exploration tasks in order to understand the data. worth noting also that data comes with shape file that will help in data spatial distrubution.\n",
    "#### Examining and fixing the data types"
   ]
  },
  {
   "cell_type": "code",
   "execution_count": 101,
   "metadata": {},
   "outputs": [
    {
     "data": {
      "text/html": [
       "<div>\n",
       "<style scoped>\n",
       "    .dataframe tbody tr th:only-of-type {\n",
       "        vertical-align: middle;\n",
       "    }\n",
       "\n",
       "    .dataframe tbody tr th {\n",
       "        vertical-align: top;\n",
       "    }\n",
       "\n",
       "    .dataframe thead th {\n",
       "        text-align: right;\n",
       "    }\n",
       "</style>\n",
       "<table border=\"1\" class=\"dataframe\">\n",
       "  <thead>\n",
       "    <tr style=\"text-align: right;\">\n",
       "      <th></th>\n",
       "      <th>raw_row_number</th>\n",
       "      <th>date</th>\n",
       "      <th>time</th>\n",
       "      <th>location</th>\n",
       "      <th>lat</th>\n",
       "      <th>lng</th>\n",
       "      <th>precinct</th>\n",
       "      <th>reporting_area</th>\n",
       "      <th>zone</th>\n",
       "      <th>subject_age</th>\n",
       "      <th>...</th>\n",
       "      <th>raw_traffic_citation_issued</th>\n",
       "      <th>raw_misd_state_citation_issued</th>\n",
       "      <th>raw_suspect_ethnicity</th>\n",
       "      <th>raw_driver_searched</th>\n",
       "      <th>raw_passenger_searched</th>\n",
       "      <th>raw_search_consent</th>\n",
       "      <th>raw_search_arrest</th>\n",
       "      <th>raw_search_warrant</th>\n",
       "      <th>raw_search_inventory</th>\n",
       "      <th>raw_search_plain_view</th>\n",
       "    </tr>\n",
       "  </thead>\n",
       "  <tbody>\n",
       "    <tr>\n",
       "      <th>0</th>\n",
       "      <td>232947</td>\n",
       "      <td>2010-10-10</td>\n",
       "      <td>NaN</td>\n",
       "      <td>DOMINICAN DR &amp; ROSA L PARKS BLVD, NASHVILLE, T...</td>\n",
       "      <td>36.187925</td>\n",
       "      <td>-86.798519</td>\n",
       "      <td>6</td>\n",
       "      <td>4403.0</td>\n",
       "      <td>611</td>\n",
       "      <td>27.0</td>\n",
       "      <td>...</td>\n",
       "      <td>False</td>\n",
       "      <td>NaN</td>\n",
       "      <td>N</td>\n",
       "      <td>False</td>\n",
       "      <td>False</td>\n",
       "      <td>False</td>\n",
       "      <td>False</td>\n",
       "      <td>False</td>\n",
       "      <td>False</td>\n",
       "      <td>False</td>\n",
       "    </tr>\n",
       "    <tr>\n",
       "      <th>1</th>\n",
       "      <td>237161</td>\n",
       "      <td>2010-10-10</td>\n",
       "      <td>10:00:00</td>\n",
       "      <td>1122 LEBANON PIKE, NASHVILLE, TN, 37210</td>\n",
       "      <td>36.155521</td>\n",
       "      <td>-86.735902</td>\n",
       "      <td>5</td>\n",
       "      <td>9035.0</td>\n",
       "      <td>513</td>\n",
       "      <td>18.0</td>\n",
       "      <td>...</td>\n",
       "      <td>True</td>\n",
       "      <td>NaN</td>\n",
       "      <td>N</td>\n",
       "      <td>False</td>\n",
       "      <td>False</td>\n",
       "      <td>False</td>\n",
       "      <td>False</td>\n",
       "      <td>False</td>\n",
       "      <td>False</td>\n",
       "      <td>False</td>\n",
       "    </tr>\n",
       "    <tr>\n",
       "      <th>2</th>\n",
       "      <td>232902</td>\n",
       "      <td>2010-10-10</td>\n",
       "      <td>10:00:00</td>\n",
       "      <td>898 DAVIDSON DR, , TN, 37205</td>\n",
       "      <td>36.117420</td>\n",
       "      <td>-86.895593</td>\n",
       "      <td>1</td>\n",
       "      <td>5005.0</td>\n",
       "      <td>121</td>\n",
       "      <td>52.0</td>\n",
       "      <td>...</td>\n",
       "      <td>False</td>\n",
       "      <td>NaN</td>\n",
       "      <td>N</td>\n",
       "      <td>False</td>\n",
       "      <td>False</td>\n",
       "      <td>False</td>\n",
       "      <td>False</td>\n",
       "      <td>False</td>\n",
       "      <td>False</td>\n",
       "      <td>False</td>\n",
       "    </tr>\n",
       "    <tr>\n",
       "      <th>3</th>\n",
       "      <td>233219</td>\n",
       "      <td>2010-10-10</td>\n",
       "      <td>22:00:00</td>\n",
       "      <td>MURFREESBORO PIKE &amp; NASHBORO BLVD, ANTIOCH, TN...</td>\n",
       "      <td>36.086799</td>\n",
       "      <td>-86.648581</td>\n",
       "      <td>3</td>\n",
       "      <td>8891.0</td>\n",
       "      <td>325</td>\n",
       "      <td>25.0</td>\n",
       "      <td>...</td>\n",
       "      <td>False</td>\n",
       "      <td>NaN</td>\n",
       "      <td>N</td>\n",
       "      <td>False</td>\n",
       "      <td>False</td>\n",
       "      <td>False</td>\n",
       "      <td>False</td>\n",
       "      <td>False</td>\n",
       "      <td>False</td>\n",
       "      <td>False</td>\n",
       "    </tr>\n",
       "    <tr>\n",
       "      <th>4</th>\n",
       "      <td>232780</td>\n",
       "      <td>2010-10-10</td>\n",
       "      <td>01:00:00</td>\n",
       "      <td>BUCHANAN ST, NORTH, TN, 37208</td>\n",
       "      <td>36.180038</td>\n",
       "      <td>-86.809109</td>\n",
       "      <td>NaN</td>\n",
       "      <td>NaN</td>\n",
       "      <td>NaN</td>\n",
       "      <td>21.0</td>\n",
       "      <td>...</td>\n",
       "      <td>False</td>\n",
       "      <td>NaN</td>\n",
       "      <td>N</td>\n",
       "      <td>True</td>\n",
       "      <td>True</td>\n",
       "      <td>False</td>\n",
       "      <td>False</td>\n",
       "      <td>False</td>\n",
       "      <td>False</td>\n",
       "      <td>False</td>\n",
       "    </tr>\n",
       "  </tbody>\n",
       "</table>\n",
       "<p>5 rows × 42 columns</p>\n",
       "</div>"
      ],
      "text/plain": [
       "  raw_row_number        date      time  \\\n",
       "0         232947  2010-10-10       NaN   \n",
       "1         237161  2010-10-10  10:00:00   \n",
       "2         232902  2010-10-10  10:00:00   \n",
       "3         233219  2010-10-10  22:00:00   \n",
       "4         232780  2010-10-10  01:00:00   \n",
       "\n",
       "                                            location        lat        lng  \\\n",
       "0  DOMINICAN DR & ROSA L PARKS BLVD, NASHVILLE, T...  36.187925 -86.798519   \n",
       "1            1122 LEBANON PIKE, NASHVILLE, TN, 37210  36.155521 -86.735902   \n",
       "2                       898 DAVIDSON DR, , TN, 37205  36.117420 -86.895593   \n",
       "3  MURFREESBORO PIKE & NASHBORO BLVD, ANTIOCH, TN...  36.086799 -86.648581   \n",
       "4                      BUCHANAN ST, NORTH, TN, 37208  36.180038 -86.809109   \n",
       "\n",
       "  precinct  reporting_area zone  subject_age  ... raw_traffic_citation_issued  \\\n",
       "0        6          4403.0  611         27.0  ...                       False   \n",
       "1        5          9035.0  513         18.0  ...                        True   \n",
       "2        1          5005.0  121         52.0  ...                       False   \n",
       "3        3          8891.0  325         25.0  ...                       False   \n",
       "4      NaN             NaN  NaN         21.0  ...                       False   \n",
       "\n",
       "  raw_misd_state_citation_issued raw_suspect_ethnicity raw_driver_searched  \\\n",
       "0                            NaN                     N               False   \n",
       "1                            NaN                     N               False   \n",
       "2                            NaN                     N               False   \n",
       "3                            NaN                     N               False   \n",
       "4                            NaN                     N                True   \n",
       "\n",
       "  raw_passenger_searched raw_search_consent raw_search_arrest  \\\n",
       "0                  False              False             False   \n",
       "1                  False              False             False   \n",
       "2                  False              False             False   \n",
       "3                  False              False             False   \n",
       "4                   True              False             False   \n",
       "\n",
       "  raw_search_warrant raw_search_inventory raw_search_plain_view  \n",
       "0              False                False                 False  \n",
       "1              False                False                 False  \n",
       "2              False                False                 False  \n",
       "3              False                False                 False  \n",
       "4              False                False                 False  \n",
       "\n",
       "[5 rows x 42 columns]"
      ]
     },
     "execution_count": 101,
     "metadata": {},
     "output_type": "execute_result"
    }
   ],
   "source": [
    "tn.head()"
   ]
  },
  {
   "cell_type": "code",
   "execution_count": 99,
   "metadata": {
    "scrolled": true
   },
   "outputs": [
    {
     "data": {
      "text/plain": [
       "white                     0.540648\n",
       "black                     0.377243\n",
       "hispanic                  0.053329\n",
       "asian/pacific islander    0.013483\n",
       "unknown                   0.011933\n",
       "other                     0.003364\n",
       "Name: subject_race, dtype: float64"
      ]
     },
     "execution_count": 99,
     "metadata": {},
     "output_type": "execute_result"
    }
   ],
   "source": [
    "tn.subject_race.value_counts(normalize=True)"
   ]
  },
  {
   "cell_type": "code",
   "execution_count": 26,
   "metadata": {},
   "outputs": [
    {
     "data": {
      "text/plain": [
       "date               datetime64[ns]\n",
       "lat                       float64\n",
       "lng                       float64\n",
       "subject_race               object\n",
       "subject_sex                object\n",
       "type                       object\n",
       "citation_issued              bool\n",
       "speed                     float64\n",
       "vehicle_color              object\n",
       "vehicle_make               object\n",
       "dtype: object"
      ]
     },
     "execution_count": 26,
     "metadata": {},
     "output_type": "execute_result"
    }
   ],
   "source": [
    "tx['date']=pd.to_datetime(tx['date'])\n",
    "tx.dtypes"
   ]
  },
  {
   "cell_type": "code",
   "execution_count": 27,
   "metadata": {},
   "outputs": [],
   "source": [
    "tx.set_index('date',inplace=True)"
   ]
  },
  {
   "cell_type": "code",
   "execution_count": 38,
   "metadata": {},
   "outputs": [
    {
     "data": {
      "text/plain": [
       "white                     62.663390\n",
       "black                     28.913622\n",
       "unknown                    4.787207\n",
       "asian/pacific islander     3.456157\n",
       "other                      0.179624\n",
       "Name: subject_race, dtype: float64"
      ]
     },
     "execution_count": 38,
     "metadata": {},
     "output_type": "execute_result"
    }
   ],
   "source": [
    "tx.subject_race.value_counts(normalize=1)*100"
   ]
  },
  {
   "cell_type": "code",
   "execution_count": 39,
   "metadata": {},
   "outputs": [
    {
     "data": {
      "text/plain": [
       "male      61.754243\n",
       "female    38.245757\n",
       "Name: subject_sex, dtype: float64"
      ]
     },
     "execution_count": 39,
     "metadata": {},
     "output_type": "execute_result"
    }
   ],
   "source": [
    "tx.subject_sex.value_counts(normalize=1)*100"
   ]
  }
 ],
 "metadata": {
  "kernelspec": {
   "display_name": "Python 3",
   "language": "python",
   "name": "python3"
  },
  "language_info": {
   "codemirror_mode": {
    "name": "ipython",
    "version": 3
   },
   "file_extension": ".py",
   "mimetype": "text/x-python",
   "name": "python",
   "nbconvert_exporter": "python",
   "pygments_lexer": "ipython3",
   "version": "3.6.8"
  }
 },
 "nbformat": 4,
 "nbformat_minor": 2
}
