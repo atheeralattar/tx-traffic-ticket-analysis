{
 "cells": [
  {
   "cell_type": "markdown",
   "metadata": {},
   "source": [
    "### The Stanford Data Project Analysis - Nashville, TN\n",
    "On a typical day in the United States, police officers make more than 50,000 traffic stops. Our team is gathering, analyzing, and releasing records from millions of traffic stops by law enforcement agencies across the country. Our goal is to help researchers, journalists, and policymakers investigate and improve interactions between police and the public."
   ]
  },
  {
   "cell_type": "markdown",
   "metadata": {},
   "source": [
    "### 1. Purpose-of-Analysis\n",
    "The purpose of the analysis is kind of hollistic approach to explore what we can get out of the data, so I am not sure if there is a specific purpose or question. I will insert all the questions that come to my mind below and will update this notebook frequently. So there are couple of questions we are trying to answer here:\n",
    "#### 1.1. Is being arrested a gender dependeant?\n",
    "#### 1.2 Is being arrested a race dependeant? \n",
    "#### 1.3 How the race distribution looks like comparing with the actual city race distribution?\n",
    "#### 1.4. Is the weather a playing factor of increasing/decreasing the tickets rates?\n",
    "#### 1.5 how the spatial distribution of the tickets looks  like?\n",
    "#### 1.6 How the spatial distribution of the tickets and gender looks like?\n",
    "#### 1.7 Do girls make violations at a specific time of the day?\n",
    "#### 1.8 How the type of violation is distributed around the city?\n",
    "#### 1.9 Are there any places in the city where speeding is the most common violation?"
   ]
  },
  {
   "cell_type": "markdown",
   "metadata": {},
   "source": [
    "### 2. Data aquisition\n",
    "The data of the project is in a form of compressed file hosted online, it will be downloaded and extracted to the project directory. You can always host the data anywhere else and change the pointer in the read csv  line"
   ]
  },
  {
   "cell_type": "code",
   "execution_count": null,
   "metadata": {},
   "outputs": [],
   "source": [
    "import datetime\n",
    "import pandas as pd\n",
    "import requests, zipfile, io"
   ]
  },
  {
   "cell_type": "code",
   "execution_count": null,
   "metadata": {},
   "outputs": [],
   "source": [
    "url=\"https://stacks.stanford.edu/file/druid:hp256wp2687/hp256wp2687_tn_nashville_2019_08_13.csv.zip\""
   ]
  },
  {
   "cell_type": "code",
   "execution_count": null,
   "metadata": {},
   "outputs": [],
   "source": [
    "r = requests.get(url)\n",
    "z = zipfile.ZipFile(io.BytesIO(r.content))\n",
    "z.extractall()\n",
    "tn_raw=pd.read_csv(z.namelist()[0], low_memory=False)"
   ]
  },
  {
   "cell_type": "code",
   "execution_count": 61,
   "metadata": {},
   "outputs": [
    {
     "name": "stderr",
     "output_type": "stream",
     "text": [
      "C:\\Users\\amalattar\\AppData\\Roaming\\Python\\Python36\\site-packages\\IPython\\core\\interactiveshell.py:3058: DtypeWarning: Columns (6,8,15,16,17,22,23,24,25,29,30,31,32,33,35,36,37,38,40,41) have mixed types. Specify dtype option on import or set low_memory=False.\n",
      "  interactivity=interactivity, compiler=compiler, result=result)\n"
     ]
    }
   ],
   "source": [
    "tn_raw=pd.read_csv('tn_nashville_2019_08_13.csv', parse_dates=[['date', 'time']])"
   ]
  },
  {
   "cell_type": "code",
   "execution_count": 63,
   "metadata": {},
   "outputs": [
    {
     "data": {
      "text/plain": [
       "0               2010-10-10 nan\n",
       "1          2010-10-10 10:00:00\n",
       "2          2010-10-10 10:00:00\n",
       "3          2010-10-10 22:00:00\n",
       "4          2010-10-10 01:00:00\n",
       "5          2010-10-10 01:00:00\n",
       "6          2010-10-10 22:02:00\n",
       "7          2010-10-10 10:04:00\n",
       "8          2010-10-10 10:05:00\n",
       "9          2010-10-10 10:05:00\n",
       "10         2010-10-10 10:07:00\n",
       "11         2010-10-10 10:10:00\n",
       "12         2010-10-10 22:10:00\n",
       "13         2010-10-10 22:11:00\n",
       "14         2010-10-10 10:13:00\n",
       "15         2010-10-10 10:13:00\n",
       "16         2010-10-10 10:13:00\n",
       "17         2010-10-10 10:15:00\n",
       "18         2010-10-10 10:16:00\n",
       "19         2010-10-10 10:16:00\n",
       "20         2010-10-10 10:17:00\n",
       "21         2010-10-10 10:17:00\n",
       "22         2010-10-10 10:18:00\n",
       "23         2010-10-10 10:18:00\n",
       "24         2010-10-10 22:18:00\n",
       "25         2010-10-10 10:19:00\n",
       "26         2010-10-10 22:19:00\n",
       "27         2010-10-10 10:20:00\n",
       "28         2010-10-10 01:02:00\n",
       "29         2010-10-10 01:02:00\n",
       "                  ...         \n",
       "3092321    2016-09-09 09:44:00\n",
       "3092322    2016-09-09 09:44:00\n",
       "3092323    2016-09-09 21:44:00\n",
       "3092324    2016-09-09 09:45:00\n",
       "3092325    2016-09-09 09:45:00\n",
       "3092326    2016-09-09 09:45:00\n",
       "3092327    2016-09-09 21:45:00\n",
       "3092328    2016-09-09 21:46:00\n",
       "3092329    2016-09-09 09:47:00\n",
       "3092330    2016-09-09 21:47:00\n",
       "3092331    2016-09-09 21:47:00\n",
       "3092332    2016-09-09 21:47:00\n",
       "3092333    2016-09-09 21:50:00\n",
       "3092334    2016-09-09 21:50:00\n",
       "3092335    2016-09-09 21:50:00\n",
       "3092336    2016-09-09 21:51:00\n",
       "3092337    2016-09-09 09:53:00\n",
       "3092338    2016-09-09 09:53:00\n",
       "3092339    2016-09-09 09:54:00\n",
       "3092340    2016-09-09 09:54:00\n",
       "3092341    2016-09-09 09:54:00\n",
       "3092342    2016-09-09 09:54:00\n",
       "3092343    2016-09-09 09:54:00\n",
       "3092344    2016-09-09 09:54:00\n",
       "3092345    2016-09-09 09:54:00\n",
       "3092346    2016-09-09 21:54:00\n",
       "3092347    2016-09-09 21:55:00\n",
       "3092348    2016-09-09 09:56:00\n",
       "3092349    2016-09-09 09:56:00\n",
       "3092350    2016-09-09 21:57:00\n",
       "Name: date_time, Length: 3092351, dtype: object"
      ]
     },
     "execution_count": 63,
     "metadata": {},
     "output_type": "execute_result"
    }
   ],
   "source": [
    "tn_raw['date_time']"
   ]
  },
  {
   "cell_type": "code",
   "execution_count": 67,
   "metadata": {},
   "outputs": [],
   "source": [
    "tn=tn_raw.copy()"
   ]
  },
  {
   "cell_type": "markdown",
   "metadata": {},
   "source": [
    "### 3. Data Exploration and Cleaning\n",
    "In this step we will select the column of interest and  will drop all the na values in these columns. We will also drop the columns that we won't need or use."
   ]
  },
  {
   "cell_type": "code",
   "execution_count": null,
   "metadata": {},
   "outputs": [],
   "source": [
    "tn.head()"
   ]
  },
  {
   "cell_type": "code",
   "execution_count": null,
   "metadata": {},
   "outputs": [],
   "source": [
    "tn.shape"
   ]
  },
  {
   "cell_type": "code",
   "execution_count": null,
   "metadata": {},
   "outputs": [],
   "source": [
    "tn.columns"
   ]
  },
  {
   "cell_type": "markdown",
   "metadata": {},
   "source": [
    "#### Removing the uneeded columns"
   ]
  },
  {
   "cell_type": "code",
   "execution_count": 65,
   "metadata": {},
   "outputs": [],
   "source": [
    "tn=tn.iloc[:,[1,2,4,5,9,10,11,13,14,15,16,17,18,19,20,21,22,23,24,]]"
   ]
  },
  {
   "cell_type": "code",
   "execution_count": 68,
   "metadata": {},
   "outputs": [
    {
     "data": {
      "text/plain": [
       "Index(['date_time', 'raw_row_number', 'location', 'lat', 'lng', 'precinct',\n",
       "       'reporting_area', 'zone', 'subject_age', 'subject_race', 'subject_sex',\n",
       "       'officer_id_hash', 'type', 'violation', 'arrest_made',\n",
       "       'citation_issued', 'warning_issued', 'outcome', 'contraband_found',\n",
       "       'contraband_drugs', 'contraband_weapons', 'frisk_performed',\n",
       "       'search_conducted', 'search_person', 'search_vehicle', 'search_basis',\n",
       "       'reason_for_stop', 'vehicle_registration_state', 'notes',\n",
       "       'raw_verbal_warning_issued', 'raw_written_warning_issued',\n",
       "       'raw_traffic_citation_issued', 'raw_misd_state_citation_issued',\n",
       "       'raw_suspect_ethnicity', 'raw_driver_searched',\n",
       "       'raw_passenger_searched', 'raw_search_consent', 'raw_search_arrest',\n",
       "       'raw_search_warrant', 'raw_search_inventory', 'raw_search_plain_view'],\n",
       "      dtype='object')"
      ]
     },
     "execution_count": 68,
     "metadata": {},
     "output_type": "execute_result"
    }
   ],
   "source": [
    "tn.columns"
   ]
  },
  {
   "cell_type": "code",
   "execution_count": null,
   "metadata": {},
   "outputs": [],
   "source": [
    "tn"
   ]
  },
  {
   "cell_type": "markdown",
   "metadata": {},
   "source": [
    "#### Checking for the nulls in each column"
   ]
  },
  {
   "cell_type": "code",
   "execution_count": null,
   "metadata": {},
   "outputs": [],
   "source": [
    "tn.isnull().sum()"
   ]
  },
  {
   "cell_type": "markdown",
   "metadata": {},
   "source": [
    "#### Setting Date as index"
   ]
  },
  {
   "cell_type": "code",
   "execution_count": null,
   "metadata": {},
   "outputs": [],
   "source": [
    "tn.set_index('date_time',inplace=True)"
   ]
  }
 ],
 "metadata": {
  "kernelspec": {
   "display_name": "Python 3",
   "language": "python",
   "name": "python3"
  },
  "language_info": {
   "codemirror_mode": {
    "name": "ipython",
    "version": 3
   },
   "file_extension": ".py",
   "mimetype": "text/x-python",
   "name": "python",
   "nbconvert_exporter": "python",
   "pygments_lexer": "ipython3",
   "version": "3.6.5"
  }
 },
 "nbformat": 4,
 "nbformat_minor": 2
}
